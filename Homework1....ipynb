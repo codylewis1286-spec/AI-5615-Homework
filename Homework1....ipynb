{
 "cells": [
  {
   "cell_type": "code",
   "execution_count": null,
   "id": "d4f80045-3514-453d-90e4-309896209e1f",
   "metadata": {},
   "outputs": [],
   "source": [
    "import pandas as pd\n",
    "import numpy as np \n",
    "import seaborn as sns"
   ]
  },
  {
   "cell_type": "code",
   "execution_count": null,
   "id": "49bc14d0-cc51-4320-892a-ba723deb1c1c",
   "metadata": {},
   "outputs": [],
   "source": [
    "df = pd.read_csv(r\"/Users/m298134/Downloads/data/processed.hungarian.data\")"
   ]
  },
  {
   "cell_type": "code",
   "execution_count": null,
   "id": "030e5d0d-06f5-475e-a07c-41929ae2f32e",
   "metadata": {
    "panel-layout": {
     "height": 7949,
     "visible": true,
     "width": 100
    }
   },
   "outputs": [],
   "source": [
    "df"
   ]
  },
  {
   "cell_type": "code",
   "execution_count": null,
   "id": "b2c16719-b6f1-4282-b9f1-e7d54b2657b0",
   "metadata": {},
   "outputs": [],
   "source": [
    "df = pd.read_csv(\"/Users/m298134/Downloads/data/processed.hungarian.data\", na_values=\"?\", header=None)\n"
   ]
  },
  {
   "cell_type": "code",
   "execution_count": null,
   "id": "17334d3c-456a-432c-ade2-21afa26d01f3",
   "metadata": {},
   "outputs": [],
   "source": [
    "df"
   ]
  },
  {
   "cell_type": "code",
   "execution_count": null,
   "id": "0907c920-a38b-4958-8440-a6df641d71a6",
   "metadata": {},
   "outputs": [],
   "source": [
    "df.columns = ['age', 'sex', 'cp', 'trestbps', 'chol', 'fbs', 'restecg', 'thalach','exang', 'oldpeak', 'slope', 'ca', 'thal', 'num']\n"
   ]
  },
  {
   "cell_type": "code",
   "execution_count": null,
   "id": "8cfdfe7e-a7dd-4b67-94f0-b6c1f05ae243",
   "metadata": {},
   "outputs": [],
   "source": [
    "df"
   ]
  },
  {
   "cell_type": "code",
   "execution_count": null,
   "id": "88ad6d5a-04f0-48b5-8e49-06941abb1eed",
   "metadata": {},
   "outputs": [],
   "source": [
    "df.dtypes"
   ]
  },
  {
   "cell_type": "code",
   "execution_count": null,
   "id": "1bd4506c-0819-43af-b84d-931696f8f2ef",
   "metadata": {},
   "outputs": [],
   "source": [
    "df[\"sex\"] = pd.Categorical(df[\"sex\"])"
   ]
  },
  {
   "cell_type": "code",
   "execution_count": null,
   "id": "05b917fa-ba30-4a69-84e9-a5f5bf5b1d36",
   "metadata": {},
   "outputs": [],
   "source": [
    "df.dtypes"
   ]
  },
  {
   "cell_type": "code",
   "execution_count": null,
   "id": "3e240cfc-28c5-41e1-9501-e6a3c201c969",
   "metadata": {},
   "outputs": [],
   "source": []
  }
 ],
 "metadata": {
  "kernelspec": {
   "display_name": "Python [conda env:AI5615]",
   "language": "python",
   "name": "conda-env-AI5615-py"
  },
  "language_info": {
   "codemirror_mode": {
    "name": "ipython",
    "version": 3
   },
   "file_extension": ".py",
   "mimetype": "text/x-python",
   "name": "python",
   "nbconvert_exporter": "python",
   "pygments_lexer": "ipython3",
   "version": "3.13.7"
  },
  "panel-cell-order": [
   "030e5d0d-06f5-475e-a07c-41929ae2f32e"
  ]
 },
 "nbformat": 4,
 "nbformat_minor": 5
}
