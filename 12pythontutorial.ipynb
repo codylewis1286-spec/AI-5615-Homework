{
 "cells": [
  {
   "cell_type": "markdown",
   "metadata": {},
   "source": [
    "# Python Tutorial\n",
    "\n",
    "The typical workflow for data analysis in Python is bases around Jupyter notebooks (like this one). Notebook are divided into cells which contain either Markdown formatted text or Python code. The cells can be executed one-by-one, in any order. To execute a cell, select it and then either click run or press shift+enter.\n",
    "\n",
    "For example, you can do arithmetic:"
   ]
  },
  {
   "cell_type": "code",
   "execution_count": null,
   "metadata": {},
   "outputs": [],
   "source": [
    "2+4"
   ]
  },
  {
   "cell_type": "markdown",
   "metadata": {},
   "source": [
    "Note that the output of the last line of the cell is printed below it. You can include multiple commands in a cell. You can also explicitly print the output."
   ]
  },
  {
   "cell_type": "code",
   "execution_count": null,
   "metadata": {},
   "outputs": [],
   "source": [
    "x = 5\n",
    "print(x)\n",
    "y = 6\n",
    "print(y)\n",
    "x*y"
   ]
  },
  {
   "cell_type": "markdown",
   "metadata": {},
   "source": [
    "## Basic Data Wrangling\n",
    "\n",
    "Python is a general-purpose programming language. In order to do statistics we need to add several statistics-specific packages to the base language. We do this using the `import` command:"
   ]
  },
  {
   "cell_type": "code",
   "execution_count": null,
   "metadata": {},
   "outputs": [],
   "source": [
    "import pandas as pd\n",
    "import numpy as np \n",
    "import seaborn as sns"
   ]
  },
  {
   "cell_type": "markdown",
   "metadata": {},
   "source": [
    "Pandas is a library for working with tabular (CSV/spreadsheet) style data. Numpy adds a high-performance numerical array data type and associated mathematical operations. Seaborn is a library for making plots. All three are designed to work well together. It will be useful to have the documentation for each of these ready to hand:\n",
    "\n",
    "- [Pandas](https://pandas.pydata.org/pandas-docs/stable/user_guide/index.html)\n",
    "- [Numpy](https://numpy.org/doc/stable/user/index.html)\n",
    "- [Seaborn](http://seaborn.pydata.org/tutorial.html)\n",
    "\n",
    "The `as` following the import is for convenience. We could simply have imported the packages, but import Pandas as `pd` means we can write just `pd` instead of `pandas` whenever we need to use a Pandas command.\n",
    "\n",
    "We'll start by import the Cleveland Heart Disease datasets using Pandas. Make sure that dataset is downloaded and in the same directory as this notebook (or modify this command to include the path to where you have saved it)."
   ]
  },
  {
   "cell_type": "code",
   "execution_count": null,
   "metadata": {},
   "outputs": [],
   "source": [
    "df = pd.read_csv(r\"/Users/m298134/Downloads/data/processed.cleveland.data\")"
   ]
  },
  {
   "cell_type": "markdown",
   "metadata": {},
   "source": [
    "This creates a _dataframe_ object called `df` containing the contents of the file. Dataframes are arranged by rows and columns much like a spreadsheet. We can see the contents of `df` by executing a cell containing just the object name."
   ]
  },
  {
   "cell_type": "code",
   "execution_count": null,
   "metadata": {},
   "outputs": [],
   "source": [
    "df"
   ]
  },
  {
   "cell_type": "markdown",
   "metadata": {},
   "source": [
    "Note the occurrence of a question mark in the last row. The raw data contains some missing values indicated by `?`. Pandas does not know that `?` means missing, and interprets that as a literal data value. We can handle this by telling Pandas how NA is encoded."
   ]
  },
  {
   "cell_type": "code",
   "execution_count": null,
   "metadata": {},
   "outputs": [],
   "source": [
    "df = pd.read_csv(\"/Users/m298134/Downloads/data/processed.cleveland.data\", na_values=\"?\")"
   ]
  },
  {
   "cell_type": "markdown",
   "metadata": {},
   "source": [
    "If you rerun the containing just `df` you should see the `?` replace by `NaN` which is the correct Python symbol for missing values.\n",
    "\n",
    "We can observe the data type of each column:"
   ]
  },
  {
   "cell_type": "code",
   "execution_count": null,
   "metadata": {},
   "outputs": [],
   "source": [
    "df.dtypes"
   ]
  },
  {
   "cell_type": "markdown",
   "metadata": {},
   "source": [
    "Here `float` means a decimal number and `int` an integer number. Notice that our categorical data type are all treated as numerical! We can explicitly convert them to categorical types."
   ]
  },
  {
   "cell_type": "code",
   "execution_count": null,
   "metadata": {},
   "outputs": [],
   "source": [
    "df[\"sex\"] = pd.Categorical(df[\"sex\"])"
   ]
  },
  {
   "cell_type": "code",
   "execution_count": null,
   "metadata": {},
   "outputs": [],
   "source": [
    "df.dtypes"
   ]
  },
  {
   "cell_type": "markdown",
   "metadata": {},
   "source": [
    "Try changing all of the categorical columns to categorical type. \n",
    "\n",
    "It's useful to add a column that indicates heart disease / no heart disease, rather than the `num` column which is divided into different types of diagnosis. Here's the syntax for accessing just one column:"
   ]
  },
  {
   "cell_type": "code",
   "execution_count": null,
   "metadata": {},
   "outputs": [],
   "source": [
    "df[\"num\"]"
   ]
  },
  {
   "cell_type": "markdown",
   "metadata": {},
   "source": [
    "We want a column indicating whether the subject has heart disease (any value greater than zero) or not (a value of zero)."
   ]
  },
  {
   "cell_type": "code",
   "execution_count": null,
   "metadata": {},
   "outputs": [],
   "source": [
    "df[\"num\"] > 0"
   ]
  },
  {
   "cell_type": "markdown",
   "metadata": {},
   "source": [
    "We can add this true/false list as a new column of the data frame called `hd`:"
   ]
  },
  {
   "cell_type": "code",
   "execution_count": null,
   "metadata": {},
   "outputs": [],
   "source": [
    "df[\"hd\"] = df[\"num\"] > 0\n",
    "df"
   ]
  },
  {
   "cell_type": "markdown",
   "metadata": {},
   "source": [
    "We can compute basic statistic of any column in several different ways:\n",
    "\n",
    "Using numpy:"
   ]
  },
  {
   "cell_type": "code",
   "execution_count": null,
   "metadata": {},
   "outputs": [],
   "source": [
    "np.mean(df[\"thalach\"])"
   ]
  },
  {
   "cell_type": "code",
   "execution_count": null,
   "metadata": {},
   "outputs": [],
   "source": [
    "np.std(df[\"thalach\"])"
   ]
  },
  {
   "cell_type": "markdown",
   "metadata": {},
   "source": [
    "Using pandas:"
   ]
  },
  {
   "cell_type": "code",
   "execution_count": null,
   "metadata": {},
   "outputs": [],
   "source": [
    "df[\"thalach\"].mean()"
   ]
  },
  {
   "cell_type": "code",
   "execution_count": null,
   "metadata": {},
   "outputs": [],
   "source": [
    "df[\"thalach\"].std()"
   ]
  },
  {
   "cell_type": "markdown",
   "metadata": {},
   "source": [
    "We can create a new varible containing a single column:"
   ]
  },
  {
   "cell_type": "code",
   "execution_count": null,
   "metadata": {},
   "outputs": [],
   "source": [
    "y = df[\"thalach\"]"
   ]
  },
  {
   "cell_type": "markdown",
   "metadata": {},
   "source": [
    "Besides selecting columns, it is often useful to select only certain rows of data. If we want a particular row number, we can do:"
   ]
  },
  {
   "cell_type": "code",
   "execution_count": null,
   "metadata": {},
   "outputs": [],
   "source": [
    "df.iloc[2, :]"
   ]
  },
  {
   "cell_type": "markdown",
   "metadata": {},
   "source": [
    "This gets the third row of data (Python starts counting at zero). The `:` means to select _all_ columns. If we only wanted one column we could do"
   ]
  },
  {
   "cell_type": "code",
   "execution_count": null,
   "metadata": {},
   "outputs": [],
   "source": [
    "df.iloc[2, 1]"
   ]
  },
  {
   "cell_type": "markdown",
   "metadata": {},
   "source": [
    "We can also get a particular row and column based on the column _name_ rather than its number:"
   ]
  },
  {
   "cell_type": "code",
   "execution_count": null,
   "metadata": {},
   "outputs": [],
   "source": [
    "df.loc[2, \"sex\"]"
   ]
  },
  {
   "cell_type": "markdown",
   "metadata": {},
   "source": [
    "Usually we want to select rows based on some value they contain, rather than their number. For example, we might want all of the male subjects in the data."
   ]
  },
  {
   "cell_type": "code",
   "execution_count": null,
   "metadata": {},
   "outputs": [],
   "source": [
    "df[\"sex\"] == 1"
   ]
  },
  {
   "cell_type": "markdown",
   "metadata": {},
   "source": [
    "This gives us a boolean (true/false) list. We can use such a list to select a subset of the rows. We'll name the list `idx` (for index). Then asking for the `df` of the indexing list selects only the rows with the value `True`."
   ]
  },
  {
   "cell_type": "code",
   "execution_count": null,
   "metadata": {},
   "outputs": [],
   "source": [
    "idx = df[\"sex\"] == 1\n",
    "men = df[idx]\n",
    "men"
   ]
  },
  {
   "cell_type": "markdown",
   "metadata": {},
   "source": [
    "As a variation on this, try selecting only the rows containing subjects above the age of 60."
   ]
  },
  {
   "cell_type": "markdown",
   "metadata": {},
   "source": [
    "## Plotting\n",
    "\n",
    "We'll use Seaborn for most plots. Seaborn is a convenient interface built on top of Matplotlib. You can also use the matplotlib library directly, but it can be complicated for even simple graphics.\n",
    "\n",
    "Most Seaborn plots take arguments for the `x` and `y` axes:"
   ]
  },
  {
   "cell_type": "code",
   "execution_count": null,
   "metadata": {},
   "outputs": [],
   "source": [
    "sns.scatterplot(x=df[\"age\"], y=df[\"oldpeak\"])"
   ]
  },
  {
   "cell_type": "markdown",
   "metadata": {},
   "source": [
    "The axes can be either full columns of data, or names of columns. In the latter case we also have to tell Seaborn which dataframe contains the columns."
   ]
  },
  {
   "cell_type": "code",
   "execution_count": null,
   "metadata": {},
   "outputs": [],
   "source": [
    "sns.scatterplot(x = \"age\", y = \"oldpeak\", data=df)"
   ]
  },
  {
   "cell_type": "markdown",
   "metadata": {},
   "source": [
    "We can use categorical columns change the color of the markers or the marker styles:"
   ]
  },
  {
   "cell_type": "code",
   "execution_count": null,
   "metadata": {},
   "outputs": [],
   "source": [
    "sns.scatterplot(x=\"age\", y=\"oldpeak\", hue=\"hd\", data=df)"
   ]
  },
  {
   "cell_type": "markdown",
   "metadata": {},
   "source": [
    "A histogram only has an `x` axis. If we only provide a column of data, Seaborn automatically uses that for the `x`-axis:"
   ]
  },
  {
   "cell_type": "code",
   "execution_count": null,
   "metadata": {},
   "outputs": [],
   "source": [
    "sns.histplot(df[\"age\"])"
   ]
  },
  {
   "cell_type": "markdown",
   "metadata": {},
   "source": [
    "## Programming Tools\n",
    "\n",
    "Much of the power from using Python or R instead of a graphical or point-and-click interface for statistical analysis is that we can use all of the features of the programming language to automate parts of our analysis.\n",
    "\n",
    "The two most important features in a programming language are the ability to repeat operations using loops and to execute commands conditionally. Simple loops use a counter which increments through a range of values. At each increment, the operations inside the loop are executed. "
   ]
  },
  {
   "cell_type": "code",
   "execution_count": null,
   "metadata": {},
   "outputs": [],
   "source": [
    "for i in range(1, 10):\n",
    "    print(i)"
   ]
  },
  {
   "cell_type": "markdown",
   "metadata": {},
   "source": [
    "Note that Python loops start with the first value in `range` and end at one less than the last value. We can also provide just the ending value:"
   ]
  },
  {
   "cell_type": "code",
   "execution_count": null,
   "metadata": {},
   "outputs": [],
   "source": [
    "for i in range(10):\n",
    "    print(i)"
   ]
  },
  {
   "cell_type": "markdown",
   "metadata": {},
   "source": [
    "Python defaults to starting at zero. A range of 10 includes ten numbers, zero through nine.\n",
    "\n",
    "We can put multiple commands inside a loop. We can also make the loop increment by an amount other than 1."
   ]
  },
  {
   "cell_type": "code",
   "execution_count": null,
   "metadata": {},
   "outputs": [],
   "source": [
    "for i in range(5, 100, 20):\n",
    "    x = i / 5\n",
    "    print(x)"
   ]
  },
  {
   "cell_type": "markdown",
   "metadata": {},
   "source": [
    "A conditional uses the `if` statement. This starts with a logical condition. Code inside the `if` block is executed if and only if the logical statement is true."
   ]
  },
  {
   "cell_type": "code",
   "execution_count": null,
   "metadata": {},
   "outputs": [],
   "source": [
    "x = 5\n",
    "if x > 2:\n",
    "    print(\"yes\")\n",
    "if x < 2:\n",
    "    print(\"no\")"
   ]
  },
  {
   "cell_type": "markdown",
   "metadata": {},
   "source": [
    "The second statement is not printed because `x < 2` is false."
   ]
  },
  {
   "cell_type": "markdown",
   "metadata": {},
   "source": [
    "Loops and conditionals become powerful when we combine them. For example, suppose we want to print the numbers less than 20 which are divisible by 3. The operation `%` gives the remainder after division:"
   ]
  },
  {
   "cell_type": "code",
   "execution_count": null,
   "metadata": {},
   "outputs": [],
   "source": [
    "11 % 4"
   ]
  },
  {
   "cell_type": "markdown",
   "metadata": {},
   "source": [
    "If the `x % y` is zero, there is no remainder, so x is evenly divisible by y. Putthing this in a conditional:"
   ]
  },
  {
   "cell_type": "code",
   "execution_count": null,
   "metadata": {},
   "outputs": [],
   "source": [
    "x = 11\n",
    "y = 4\n",
    "\n",
    "if x % y == 0:\n",
    "    print(\"yes\")"
   ]
  },
  {
   "cell_type": "markdown",
   "metadata": {},
   "source": [
    "(Try changing the values of x and y)."
   ]
  },
  {
   "cell_type": "markdown",
   "metadata": {},
   "source": [
    "Now we can put the conditional inside of a loop:"
   ]
  },
  {
   "cell_type": "code",
   "execution_count": null,
   "metadata": {},
   "outputs": [],
   "source": [
    "for i in range(20):\n",
    "    if i % 3 == 0:\n",
    "        print(i)"
   ]
  },
  {
   "cell_type": "markdown",
   "metadata": {},
   "source": [
    "This iterates `i` through the range of numbers less than 20. For each number in that range, it tests the condition `i % 3 == 0`. It prints `i` only when that condition is true, which happens exactly for the number divisible by three. "
   ]
  },
  {
   "cell_type": "markdown",
   "metadata": {},
   "source": [
    "## Model fitting\n",
    "\n",
    "We'll use two different packages for building statistical models in Python, Scikit-Learn and Statsmodels. \n",
    "\n"
   ]
  },
  {
   "cell_type": "markdown",
   "metadata": {},
   "source": [
    "### Scikit-Learn\n",
    "\n",
    "Start by building a simple linear regression model with scikit learn."
   ]
  },
  {
   "cell_type": "code",
   "execution_count": null,
   "metadata": {},
   "outputs": [],
   "source": [
    "from sklearn.linear_model import LinearRegression"
   ]
  },
  {
   "cell_type": "markdown",
   "metadata": {},
   "source": [
    "Notice that instead of importing the whole package we only imported one class from it, the LinearRegression class.\n",
    "\n",
    "The first thing to do is create an instance of this class, which we will call `model`. This essentially tells scikit-learn that we are building a model of the form $y = a + bx$, but does not provide any fitting data, just the abstract form. The [documentation](https://scikit-learn.org/stable/modules/generated/sklearn.linear_model.LinearRegression.html#sklearn.linear_model.LinearRegression) gives more details."
   ]
  },
  {
   "cell_type": "code",
   "execution_count": null,
   "metadata": {},
   "outputs": [],
   "source": [
    "model = LinearRegression()"
   ]
  },
  {
   "cell_type": "markdown",
   "metadata": {},
   "source": [
    "Some models will have more options we wish to specify. For example, here we could do `model = LinearRegression(fit_intercept=False)` to specify that the model has the form $y = bx$ (i.e. no intercept term $a$). In this case the defaults are what we want, however.\n",
    "\n",
    "The next step is to provide data with which to fit the model. We'll create `x` and `y` variables."
   ]
  },
  {
   "cell_type": "code",
   "execution_count": null,
   "metadata": {},
   "outputs": [],
   "source": [
    "y = df[\"thalach\"]\n",
    "X = df[\"age\"]"
   ]
  },
  {
   "cell_type": "markdown",
   "metadata": {},
   "source": [
    "Scikit-learn expects `X` to have the form of an $N \\times p$ matrix with $p = 1$ since there's only one column. Unfortunately, a single column selection gets \"flattened\" into a row vector. We need to manually reshape `X`."
   ]
  },
  {
   "cell_type": "code",
   "execution_count": null,
   "metadata": {},
   "outputs": [],
   "source": [
    "X.shape"
   ]
  },
  {
   "cell_type": "code",
   "execution_count": null,
   "metadata": {},
   "outputs": [],
   "source": [
    "X = X.values.reshape(-1, 1)"
   ]
  },
  {
   "cell_type": "code",
   "execution_count": null,
   "metadata": {},
   "outputs": [],
   "source": [
    "X.shape"
   ]
  },
  {
   "cell_type": "markdown",
   "metadata": {},
   "source": [
    "Now that `X` has the right shape, fitting the model is simple."
   ]
  },
  {
   "cell_type": "code",
   "execution_count": null,
   "metadata": {},
   "outputs": [],
   "source": [
    "model.fit(X=X, y=y)"
   ]
  },
  {
   "cell_type": "markdown",
   "metadata": {},
   "source": [
    "It doesn't look like much happened, but now the model has calculated the values of the parameters $a$ and $b$. The value of $a$ is the intercept:"
   ]
  },
  {
   "cell_type": "code",
   "execution_count": null,
   "metadata": {},
   "outputs": [],
   "source": [
    "model.intercept_"
   ]
  },
  {
   "cell_type": "markdown",
   "metadata": {},
   "source": [
    "The value of $b$ is the coefficient associated to `X`:"
   ]
  },
  {
   "cell_type": "code",
   "execution_count": null,
   "metadata": {},
   "outputs": [],
   "source": [
    "model.coef_[0]"
   ]
  },
  {
   "cell_type": "markdown",
   "metadata": {},
   "source": [
    "Technically `model.coef_` is a list of coefficients, one for each predictor in the model. We only have one predictor, so we are interested in the first coefficient, which is coefficient 0 with Pythons indexing scheme. Notice the difference between printing `model.coef_` and `model.coef_[0]`."
   ]
  },
  {
   "cell_type": "markdown",
   "metadata": {},
   "source": [
    "We can also predict new values using the model. If we want to know the predict max heart rates for subjects of ages 30, 40, and 50, we can create a new array of $x$ values and use the predict command."
   ]
  },
  {
   "cell_type": "code",
   "execution_count": null,
   "metadata": {},
   "outputs": [],
   "source": [
    "X_new = np.array([[30], [40], [50]])\n",
    "model.predict(X=X_new)"
   ]
  },
  {
   "cell_type": "markdown",
   "metadata": {},
   "source": [
    "All of the brackets are again necessary so `X_new` has the right shape."
   ]
  },
  {
   "cell_type": "markdown",
   "metadata": {},
   "source": [
    "### Statsmodels\n",
    "\n",
    "Now we'll repeat fitting the model, but with statsmodels. This has a more R-like syntax and output."
   ]
  },
  {
   "cell_type": "code",
   "execution_count": null,
   "metadata": {},
   "outputs": [],
   "source": [
    "import statsmodels.formula.api as smf"
   ]
  },
  {
   "cell_type": "markdown",
   "metadata": {},
   "source": [
    "Here we construct the model and provide the fitting data at the same time. We give the column names in the form of a formula, \"y ~ x\", in which the left-hand side is the response variable name and everything on the right-hand side is used as a predictor. We also have to state which dataframe contains the columns."
   ]
  },
  {
   "cell_type": "code",
   "execution_count": null,
   "metadata": {},
   "outputs": [],
   "source": [
    "model = smf.ols(\"thalach ~ age\", data=df)"
   ]
  },
  {
   "cell_type": "markdown",
   "metadata": {},
   "source": [
    "The linear regression model in Statsmodels is called `ols` for Ordinary Least Squares.\n",
    "\n",
    "Even though the model has data, it is not actually fitted until we tell Statsmodels to compute the fit. The result of fitting the model is a new object, which we'll call `res`."
   ]
  },
  {
   "cell_type": "code",
   "execution_count": null,
   "metadata": {},
   "outputs": [],
   "source": [
    "res = model.fit()"
   ]
  },
  {
   "cell_type": "markdown",
   "metadata": {},
   "source": [
    "To see all of the information about the fitted model, we can print a summary of `res`."
   ]
  },
  {
   "cell_type": "code",
   "execution_count": null,
   "metadata": {},
   "outputs": [],
   "source": [
    "print(res.summary())"
   ]
  },
  {
   "cell_type": "markdown",
   "metadata": {},
   "source": [
    "The model parameters are in there (under `coef`), as well as a bunch of other information that may or may not be useful. If we just want the parameters we can get those:"
   ]
  },
  {
   "cell_type": "code",
   "execution_count": null,
   "metadata": {},
   "outputs": [],
   "source": [
    "res.params"
   ]
  }
 ],
 "metadata": {
  "kernelspec": {
   "display_name": "Python [conda env:base] *",
   "language": "python",
   "name": "conda-base-py"
  },
  "language_info": {
   "codemirror_mode": {
    "name": "ipython",
    "version": 3
   },
   "file_extension": ".py",
   "mimetype": "text/x-python",
   "name": "python",
   "nbconvert_exporter": "python",
   "pygments_lexer": "ipython3",
   "version": "3.13.5"
  },
  "vscode": {
   "interpreter": {
    "hash": "ad2bdc8ecc057115af97d19610ffacc2b4e99fae6737bb82f5d7fb13d2f2c186"
   }
  }
 },
 "nbformat": 4,
 "nbformat_minor": 4
}
